{
  "nbformat": 4,
  "nbformat_minor": 0,
  "metadata": {
    "colab": {
      "provenance": [],
      "authorship_tag": "ABX9TyNgzTjBCPBxo4HlBDs02/XU",
      "include_colab_link": true
    },
    "kernelspec": {
      "name": "python3",
      "display_name": "Python 3"
    },
    "language_info": {
      "name": "python"
    }
  },
  "cells": [
    {
      "cell_type": "markdown",
      "metadata": {
        "id": "view-in-github",
        "colab_type": "text"
      },
      "source": [
        "<a href=\"https://colab.research.google.com/github/ivanmorales22/iteso-data-analytics/blob/main/clase_1.ipynb\" target=\"_parent\"><img src=\"https://colab.research.google.com/assets/colab-badge.svg\" alt=\"Open In Colab\"/></a>"
      ]
    },
    {
      "cell_type": "code",
      "execution_count": 2,
      "metadata": {
        "colab": {
          "base_uri": "https://localhost:8080/"
        },
        "id": "qPCY632MFa54",
        "outputId": "278e4ffd-c8e6-4d80-ede4-760a6b498cb3"
      },
      "outputs": [
        {
          "output_type": "stream",
          "name": "stdout",
          "text": [
            "hello world\n"
          ]
        }
      ],
      "source": [
        "print('hello world')"
      ]
    },
    {
      "cell_type": "code",
      "source": [],
      "metadata": {
        "id": "N49w7EenF7WR"
      },
      "execution_count": null,
      "outputs": []
    },
    {
      "cell_type": "markdown",
      "source": [
        "# Titulo\n",
        "## Subtitulo\n",
        "### Sub-Subtitulo\n",
        "#### Sub-Sub-Subtitulo\n",
        "Markdown --> .md -->\n",
        "es un lenguaje de etiquetas\n",
        "\n",
        "Codigo Latex sirve para escribir formulas matematicas"
      ],
      "metadata": {
        "id": "SkGEvZYFGO2s"
      }
    },
    {
      "cell_type": "markdown",
      "source": [
        "Conditional probability \\\n",
        "\n",
        "Probabilidad condicional\n",
        "\n",
        "$$\n",
        "P(x) = p(p|y)\n",
        "$$"
      ],
      "metadata": {
        "id": "90qQVjvlHrAm"
      }
    }
  ]
}