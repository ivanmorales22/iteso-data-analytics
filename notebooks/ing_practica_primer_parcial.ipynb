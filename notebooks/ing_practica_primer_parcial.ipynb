{
 "cells": [
  {
   "cell_type": "code",
   "execution_count": 163,
   "metadata": {},
   "outputs": [],
   "source": [
    "## Importamos las librerias necesarias\n",
    "\n",
    "import pandas as pd\n",
    "import numpy as np\n",
    "import matplotlib.pyplot as plt\n",
    "from sklearn.feature_extraction.text import  CountVectorizer"
   ]
  },
  {
   "cell_type": "code",
   "execution_count": 143,
   "metadata": {},
   "outputs": [
    {
     "data": {
      "text/html": [
       "<div>\n",
       "<style scoped>\n",
       "    .dataframe tbody tr th:only-of-type {\n",
       "        vertical-align: middle;\n",
       "    }\n",
       "\n",
       "    .dataframe tbody tr th {\n",
       "        vertical-align: top;\n",
       "    }\n",
       "\n",
       "    .dataframe thead th {\n",
       "        text-align: right;\n",
       "    }\n",
       "</style>\n",
       "<table border=\"1\" class=\"dataframe\">\n",
       "  <thead>\n",
       "    <tr style=\"text-align: right;\">\n",
       "      <th></th>\n",
       "      <th>Nombre</th>\n",
       "      <th>Edad</th>\n",
       "      <th>Formación académica</th>\n",
       "      <th>Antigüedad</th>\n",
       "      <th>Resultado de evaluación</th>\n",
       "    </tr>\n",
       "  </thead>\n",
       "  <tbody>\n",
       "    <tr>\n",
       "      <th>0</th>\n",
       "      <td>Alvarado Zepeda Diana</td>\n",
       "      <td>51.0</td>\n",
       "      <td>Ingeniería Industrial</td>\n",
       "      <td>16.0</td>\n",
       "      <td>3.625</td>\n",
       "    </tr>\n",
       "    <tr>\n",
       "      <th>1</th>\n",
       "      <td>Bonilla Sandoval Martín</td>\n",
       "      <td>65.0</td>\n",
       "      <td>Licenciatura en sociología</td>\n",
       "      <td>9.0</td>\n",
       "      <td>6.070</td>\n",
       "    </tr>\n",
       "    <tr>\n",
       "      <th>2</th>\n",
       "      <td>Bonilla Sánchez Daniel</td>\n",
       "      <td>28.0</td>\n",
       "      <td>Lic. en matemáticas</td>\n",
       "      <td>15.0</td>\n",
       "      <td>4.630</td>\n",
       "    </tr>\n",
       "    <tr>\n",
       "      <th>3</th>\n",
       "      <td>Bravo Cortéz Marcos</td>\n",
       "      <td>53.0</td>\n",
       "      <td>Ingeniería en Mecatrónica</td>\n",
       "      <td>11.0</td>\n",
       "      <td>6.525</td>\n",
       "    </tr>\n",
       "    <tr>\n",
       "      <th>4</th>\n",
       "      <td>Bravo Gomez Pedro</td>\n",
       "      <td>33.0</td>\n",
       "      <td>Ingeniería en Mecatrónica</td>\n",
       "      <td>11.0</td>\n",
       "      <td>7.990</td>\n",
       "    </tr>\n",
       "    <tr>\n",
       "      <th>...</th>\n",
       "      <td>...</td>\n",
       "      <td>...</td>\n",
       "      <td>...</td>\n",
       "      <td>...</td>\n",
       "      <td>...</td>\n",
       "    </tr>\n",
       "    <tr>\n",
       "      <th>70</th>\n",
       "      <td>Ávila López Carmen</td>\n",
       "      <td>68.0</td>\n",
       "      <td>Ing. en mecatrónica</td>\n",
       "      <td>6.0</td>\n",
       "      <td>NaN</td>\n",
       "    </tr>\n",
       "    <tr>\n",
       "      <th>71</th>\n",
       "      <td>Jiménez de Alba Enrique</td>\n",
       "      <td>58.0</td>\n",
       "      <td>NaN</td>\n",
       "      <td>NaN</td>\n",
       "      <td>5.755</td>\n",
       "    </tr>\n",
       "    <tr>\n",
       "      <th>72</th>\n",
       "      <td>Sánchez Pineda Ramón</td>\n",
       "      <td>36.0</td>\n",
       "      <td>NaN</td>\n",
       "      <td>15.0</td>\n",
       "      <td>4.680</td>\n",
       "    </tr>\n",
       "    <tr>\n",
       "      <th>73</th>\n",
       "      <td>Pérez Jiménez Francisco</td>\n",
       "      <td>64.0</td>\n",
       "      <td>Ingeniería en Mecatrónica</td>\n",
       "      <td>NaN</td>\n",
       "      <td>4.410</td>\n",
       "    </tr>\n",
       "    <tr>\n",
       "      <th>74</th>\n",
       "      <td>Pineda Zepeda Karen</td>\n",
       "      <td>55.0</td>\n",
       "      <td>Ingeniería civil</td>\n",
       "      <td>13.0</td>\n",
       "      <td>NaN</td>\n",
       "    </tr>\n",
       "  </tbody>\n",
       "</table>\n",
       "<p>75 rows × 5 columns</p>\n",
       "</div>"
      ],
      "text/plain": [
       "                     Nombre  Edad         Formación académica  Antigüedad  \\\n",
       "0     Alvarado Zepeda Diana  51.0       Ingeniería Industrial        16.0   \n",
       "1   Bonilla Sandoval Martín  65.0  Licenciatura en sociología         9.0   \n",
       "2    Bonilla Sánchez Daniel  28.0         Lic. en matemáticas        15.0   \n",
       "3       Bravo Cortéz Marcos  53.0   Ingeniería en Mecatrónica        11.0   \n",
       "4         Bravo Gomez Pedro  33.0   Ingeniería en Mecatrónica        11.0   \n",
       "..                      ...   ...                         ...         ...   \n",
       "70       Ávila López Carmen  68.0         Ing. en mecatrónica         6.0   \n",
       "71  Jiménez de Alba Enrique  58.0                         NaN         NaN   \n",
       "72     Sánchez Pineda Ramón  36.0                         NaN        15.0   \n",
       "73  Pérez Jiménez Francisco  64.0   Ingeniería en Mecatrónica         NaN   \n",
       "74      Pineda Zepeda Karen  55.0            Ingeniería civil        13.0   \n",
       "\n",
       "    Resultado de evaluación  \n",
       "0                     3.625  \n",
       "1                     6.070  \n",
       "2                     4.630  \n",
       "3                     6.525  \n",
       "4                     7.990  \n",
       "..                      ...  \n",
       "70                      NaN  \n",
       "71                    5.755  \n",
       "72                    4.680  \n",
       "73                    4.410  \n",
       "74                      NaN  \n",
       "\n",
       "[75 rows x 5 columns]"
      ]
     },
     "execution_count": 143,
     "metadata": {},
     "output_type": "execute_result"
    }
   ],
   "source": [
    "path = ('/Users/ivanm/apps/iteso-data-analytics/data/raw/Práctica_one.csv')\n",
    "df=pd.read_csv(path)\n",
    "df"
   ]
  },
  {
   "cell_type": "code",
   "execution_count": 144,
   "metadata": {},
   "outputs": [
    {
     "data": {
      "text/plain": [
       "Nombre                      object\n",
       "Edad                       float64\n",
       "Formación académica         object\n",
       "Antigüedad                 float64\n",
       "Resultado de evaluación    float64\n",
       "dtype: object"
      ]
     },
     "execution_count": 144,
     "metadata": {},
     "output_type": "execute_result"
    }
   ],
   "source": [
    "df.dtypes"
   ]
  },
  {
   "cell_type": "code",
   "execution_count": 145,
   "metadata": {},
   "outputs": [
    {
     "data": {
      "text/plain": [
       "Nombre                     0\n",
       "Edad                       5\n",
       "Formación académica        5\n",
       "Antigüedad                 4\n",
       "Resultado de evaluación    3\n",
       "dtype: int64"
      ]
     },
     "execution_count": 145,
     "metadata": {},
     "output_type": "execute_result"
    }
   ],
   "source": [
    "## Aqui podemos notar cuantos valores NaN tenemos por cada columna del DataFrame\n",
    "## Tenemos 0 en Nombre, 5 en Edad, 5 en Formacion academica, 4 en Antiguedad \n",
    "## y 3 en Resultado de evaluacion\n",
    "\n",
    "df.isna().sum()"
   ]
  },
  {
   "cell_type": "markdown",
   "metadata": {},
   "source": [
    "Notamos que en ninguna variable los datos faltantes superan el 60% de las observaciones asi que no eliminamos ninguna variable."
   ]
  },
  {
   "cell_type": "code",
   "execution_count": 146,
   "metadata": {},
   "outputs": [
    {
     "data": {
      "text/plain": [
       "0    Ingeniería Industrial\n",
       "Name: Formación académica, dtype: object"
      ]
     },
     "execution_count": 146,
     "metadata": {},
     "output_type": "execute_result"
    }
   ],
   "source": [
    "df['Formación académica'].mode()"
   ]
  },
  {
   "cell_type": "code",
   "execution_count": 147,
   "metadata": {},
   "outputs": [],
   "source": [
    "df['Formación académica'] = df['Formación académica'].fillna(df['Formación académica'].mode().iloc[0])"
   ]
  },
  {
   "cell_type": "code",
   "execution_count": 148,
   "metadata": {},
   "outputs": [
    {
     "data": {
      "text/plain": [
       "-1.3068316092609022"
      ]
     },
     "execution_count": 148,
     "metadata": {},
     "output_type": "execute_result"
    }
   ],
   "source": [
    "df['Edad'].kurt()"
   ]
  },
  {
   "cell_type": "code",
   "execution_count": 149,
   "metadata": {},
   "outputs": [
    {
     "data": {
      "text/plain": [
       "0.1289581810705296"
      ]
     },
     "execution_count": 149,
     "metadata": {},
     "output_type": "execute_result"
    }
   ],
   "source": [
    "df['Antigüedad'].kurt()"
   ]
  },
  {
   "cell_type": "code",
   "execution_count": 150,
   "metadata": {},
   "outputs": [
    {
     "data": {
      "text/plain": [
       "0.893258600734125"
      ]
     },
     "execution_count": 150,
     "metadata": {},
     "output_type": "execute_result"
    }
   ],
   "source": [
    "df['Resultado de evaluación'].kurt()"
   ]
  },
  {
   "cell_type": "markdown",
   "metadata": {},
   "source": [
    "Solo la variable de Edad presenta una distrubicion uniforme dado que estamos considerando como distribucion uniforme una curtosis menor a -1.2 y tenemos las siguientes curtosis:\n",
    "\n",
    "Edad: -1.3068316092609022\n",
    "\n",
    "Antigüedad: 0.1289581810705296\n",
    "\n",
    "Resultado de evaluación: 0.893258600734125"
   ]
  },
  {
   "cell_type": "code",
   "execution_count": 151,
   "metadata": {},
   "outputs": [
    {
     "data": {
      "text/plain": [
       "<Axes: ylabel='Frequency'>"
      ]
     },
     "execution_count": 151,
     "metadata": {},
     "output_type": "execute_result"
    },
    {
     "data": {
      "image/png": "[encoded data removed]",
      "text/plain": [
       "<Figure size 640x480 with 1 Axes>"
      ]
     },
     "metadata": {},
     "output_type": "display_data"
    }
   ],
   "source": [
    "df['Edad'].plot(kind='hist')"
   ]
  },
  {
   "cell_type": "code",
   "execution_count": 152,
   "metadata": {},
   "outputs": [
    {
     "data": {
      "text/plain": [
       "<Axes: ylabel='Frequency'>"
      ]
     },
     "execution_count": 152,
     "metadata": {},
     "output_type": "execute_result"
    },
    {
     "data": {
      "image/png": "[encoded data removed]",
      "text/plain": [
       "<Figure size 640x480 with 1 Axes>"
      ]
     },
     "metadata": {},
     "output_type": "display_data"
    }
   ],
   "source": [
    "df['Antigüedad'].plot(kind='hist')"
   ]
  },
  {
   "cell_type": "code",
   "execution_count": 153,
   "metadata": {},
   "outputs": [
    {
     "data": {
      "text/plain": [
       "<Axes: ylabel='Frequency'>"
      ]
     },
     "execution_count": 153,
     "metadata": {},
     "output_type": "execute_result"
    },
    {
     "data": {
      "image/png": "[encoded data removed]",
      "text/plain": [
       "<Figure size 640x480 with 1 Axes>"
      ]
     },
     "metadata": {},
     "output_type": "display_data"
    }
   ],
   "source": [
    "df['Resultado de evaluación'].plot(kind='hist')"
   ]
  },
  {
   "cell_type": "code",
   "execution_count": 154,
   "metadata": {},
   "outputs": [
    {
     "data": {
      "image/png": "[encoded data removed]",
      "text/plain": [
       "<Figure size 800x600 with 1 Axes>"
      ]
     },
     "metadata": {},
     "output_type": "display_data"
    }
   ],
   "source": [
    "## Ahora realizaremos un boxplot para cada una de nuestras variables y poder verificar si existen valores atipicos o no\n",
    "## Sustituya por la media aritmética si no presenta valores atípicos\n",
    "## Sustituya por la mediana si presenta valores atípicos\n",
    "\n",
    "plt.figure(figsize=(8, 6))\n",
    "df.boxplot(column='Edad')\n",
    "plt.title('Boxplot de la Edad')\n",
    "plt.grid(False)\n",
    "plt.show()\n",
    "\n",
    "## No presenta valores atipicos\n",
    "## por lo que sustituiremos los faltantes con la media aritmetica"
   ]
  },
  {
   "cell_type": "code",
   "execution_count": 155,
   "metadata": {},
   "outputs": [
    {
     "data": {
      "image/png": "[encoded data removed]",
      "text/plain": [
       "<Figure size 800x600 with 1 Axes>"
      ]
     },
     "metadata": {},
     "output_type": "display_data"
    }
   ],
   "source": [
    "plt.figure(figsize=(8, 6))\n",
    "df.boxplot(column='Antigüedad')\n",
    "plt.title('Boxplot de la Antigüedad')\n",
    "plt.grid(False)\n",
    "plt.show()\n",
    "\n",
    "## En esta variable tampoco detectamos valores atipicos\n",
    "## por lo que sustituiremos los faltantes con la media aritmetica"
   ]
  },
  {
   "cell_type": "code",
   "execution_count": 156,
   "metadata": {},
   "outputs": [
    {
     "data": {
      "image/png": "[encoded data removed]",
      "text/plain": [
       "<Figure size 800x600 with 1 Axes>"
      ]
     },
     "metadata": {},
     "output_type": "display_data"
    }
   ],
   "source": [
    "plt.figure(figsize=(8, 6))\n",
    "df.boxplot(column='Resultado de evaluación')\n",
    "plt.title('Boxplot del Resultado de evaluación')\n",
    "plt.grid(False)\n",
    "plt.show()\n",
    "\n",
    "## Por ultimo en la ultima variable si encontramos valores atipicos\n",
    "## por lo que sustituiremos los valores faltantes con la mediana"
   ]
  },
  {
   "cell_type": "markdown",
   "metadata": {},
   "source": [
    "En las siguientes 3 celdas de codigo hacemos el reemplazo de NaN de las variables restantes segun el criterio elegido, aleatoria para una distribucion normal, tal como la de la Edad, por media para una variable que no muestra valores atipicos tal como la Antiguedad y por mediana para una que si muestra valores atipicos como el Resultado de Evaluacion."
   ]
  },
  {
   "cell_type": "code",
   "execution_count": 157,
   "metadata": {},
   "outputs": [],
   "source": [
    "media_edad = df['Edad'].mean()\n",
    "desviacion_estandar_edad = df['Edad'].std()\n",
    "\n",
    "num_nans = df['Edad'].isnull().sum()\n",
    "\n",
    "valores_aleatorios = np.random.normal(media_edad, desviacion_estandar_edad, num_nans)\n",
    "\n",
    "df.loc[df['Edad'].isnull(), 'Edad'] = valores_aleatorios"
   ]
  },
  {
   "cell_type": "code",
   "execution_count": 158,
   "metadata": {},
   "outputs": [],
   "source": [
    "df['Antigüedad'] = df['Antigüedad'].fillna(df['Antigüedad'].mean())"
   ]
  },
  {
   "cell_type": "code",
   "execution_count": 159,
   "metadata": {},
   "outputs": [],
   "source": [
    "df['Resultado de evaluación'] = df['Resultado de evaluación'].fillna(df['Resultado de evaluación'].median())"
   ]
  },
  {
   "cell_type": "code",
   "execution_count": 160,
   "metadata": {},
   "outputs": [
    {
     "data": {
      "text/html": [
       "<div>\n",
       "<style scoped>\n",
       "    .dataframe tbody tr th:only-of-type {\n",
       "        vertical-align: middle;\n",
       "    }\n",
       "\n",
       "    .dataframe tbody tr th {\n",
       "        vertical-align: top;\n",
       "    }\n",
       "\n",
       "    .dataframe thead th {\n",
       "        text-align: right;\n",
       "    }\n",
       "</style>\n",
       "<table border=\"1\" class=\"dataframe\">\n",
       "  <thead>\n",
       "    <tr style=\"text-align: right;\">\n",
       "      <th></th>\n",
       "      <th>Nombre</th>\n",
       "      <th>Edad</th>\n",
       "      <th>Formación académica</th>\n",
       "      <th>Antigüedad</th>\n",
       "      <th>Resultado de evaluación</th>\n",
       "    </tr>\n",
       "  </thead>\n",
       "  <tbody>\n",
       "    <tr>\n",
       "      <th>0</th>\n",
       "      <td>Alvarado Zepeda Diana</td>\n",
       "      <td>51.0</td>\n",
       "      <td>Ingeniería Industrial</td>\n",
       "      <td>16.000000</td>\n",
       "      <td>3.6250</td>\n",
       "    </tr>\n",
       "    <tr>\n",
       "      <th>1</th>\n",
       "      <td>Bonilla Sandoval Martín</td>\n",
       "      <td>65.0</td>\n",
       "      <td>Licenciatura en sociología</td>\n",
       "      <td>9.000000</td>\n",
       "      <td>6.0700</td>\n",
       "    </tr>\n",
       "    <tr>\n",
       "      <th>2</th>\n",
       "      <td>Bonilla Sánchez Daniel</td>\n",
       "      <td>28.0</td>\n",
       "      <td>Lic. en matemáticas</td>\n",
       "      <td>15.000000</td>\n",
       "      <td>4.6300</td>\n",
       "    </tr>\n",
       "    <tr>\n",
       "      <th>3</th>\n",
       "      <td>Bravo Cortéz Marcos</td>\n",
       "      <td>53.0</td>\n",
       "      <td>Ingeniería en Mecatrónica</td>\n",
       "      <td>11.000000</td>\n",
       "      <td>6.5250</td>\n",
       "    </tr>\n",
       "    <tr>\n",
       "      <th>4</th>\n",
       "      <td>Bravo Gomez Pedro</td>\n",
       "      <td>33.0</td>\n",
       "      <td>Ingeniería en Mecatrónica</td>\n",
       "      <td>11.000000</td>\n",
       "      <td>7.9900</td>\n",
       "    </tr>\n",
       "    <tr>\n",
       "      <th>...</th>\n",
       "      <td>...</td>\n",
       "      <td>...</td>\n",
       "      <td>...</td>\n",
       "      <td>...</td>\n",
       "      <td>...</td>\n",
       "    </tr>\n",
       "    <tr>\n",
       "      <th>70</th>\n",
       "      <td>Ávila López Carmen</td>\n",
       "      <td>68.0</td>\n",
       "      <td>Ing. en mecatrónica</td>\n",
       "      <td>6.000000</td>\n",
       "      <td>5.4375</td>\n",
       "    </tr>\n",
       "    <tr>\n",
       "      <th>71</th>\n",
       "      <td>Jiménez de Alba Enrique</td>\n",
       "      <td>58.0</td>\n",
       "      <td>Ingeniería Industrial</td>\n",
       "      <td>15.732394</td>\n",
       "      <td>5.7550</td>\n",
       "    </tr>\n",
       "    <tr>\n",
       "      <th>72</th>\n",
       "      <td>Sánchez Pineda Ramón</td>\n",
       "      <td>36.0</td>\n",
       "      <td>Ingeniería Industrial</td>\n",
       "      <td>15.000000</td>\n",
       "      <td>4.6800</td>\n",
       "    </tr>\n",
       "    <tr>\n",
       "      <th>73</th>\n",
       "      <td>Pérez Jiménez Francisco</td>\n",
       "      <td>64.0</td>\n",
       "      <td>Ingeniería en Mecatrónica</td>\n",
       "      <td>15.732394</td>\n",
       "      <td>4.4100</td>\n",
       "    </tr>\n",
       "    <tr>\n",
       "      <th>74</th>\n",
       "      <td>Pineda Zepeda Karen</td>\n",
       "      <td>55.0</td>\n",
       "      <td>Ingeniería civil</td>\n",
       "      <td>13.000000</td>\n",
       "      <td>5.4375</td>\n",
       "    </tr>\n",
       "  </tbody>\n",
       "</table>\n",
       "<p>75 rows × 5 columns</p>\n",
       "</div>"
      ],
      "text/plain": [
       "                     Nombre  Edad         Formación académica  Antigüedad  \\\n",
       "0     Alvarado Zepeda Diana  51.0       Ingeniería Industrial   16.000000   \n",
       "1   Bonilla Sandoval Martín  65.0  Licenciatura en sociología    9.000000   \n",
       "2    Bonilla Sánchez Daniel  28.0         Lic. en matemáticas   15.000000   \n",
       "3       Bravo Cortéz Marcos  53.0   Ingeniería en Mecatrónica   11.000000   \n",
       "4         Bravo Gomez Pedro  33.0   Ingeniería en Mecatrónica   11.000000   \n",
       "..                      ...   ...                         ...         ...   \n",
       "70       Ávila López Carmen  68.0         Ing. en mecatrónica    6.000000   \n",
       "71  Jiménez de Alba Enrique  58.0       Ingeniería Industrial   15.732394   \n",
       "72     Sánchez Pineda Ramón  36.0       Ingeniería Industrial   15.000000   \n",
       "73  Pérez Jiménez Francisco  64.0   Ingeniería en Mecatrónica   15.732394   \n",
       "74      Pineda Zepeda Karen  55.0            Ingeniería civil   13.000000   \n",
       "\n",
       "    Resultado de evaluación  \n",
       "0                    3.6250  \n",
       "1                    6.0700  \n",
       "2                    4.6300  \n",
       "3                    6.5250  \n",
       "4                    7.9900  \n",
       "..                      ...  \n",
       "70                   5.4375  \n",
       "71                   5.7550  \n",
       "72                   4.6800  \n",
       "73                   4.4100  \n",
       "74                   5.4375  \n",
       "\n",
       "[75 rows x 5 columns]"
      ]
     },
     "execution_count": 160,
     "metadata": {},
     "output_type": "execute_result"
    }
   ],
   "source": [
    "df"
   ]
  },
  {
   "cell_type": "code",
   "execution_count": 161,
   "metadata": {},
   "outputs": [
    {
     "data": {
      "text/plain": [
       "Nombre                     0\n",
       "Edad                       0\n",
       "Formación académica        0\n",
       "Antigüedad                 0\n",
       "Resultado de evaluación    0\n",
       "dtype: int64"
      ]
     },
     "execution_count": 161,
     "metadata": {},
     "output_type": "execute_result"
    }
   ],
   "source": [
    "df.isna().sum()"
   ]
  },
  {
   "cell_type": "code",
   "execution_count": 162,
   "metadata": {},
   "outputs": [
    {
     "data": {
      "text/plain": [
       "array(['Ingeniería Industrial', 'Licenciatura en sociología',\n",
       "       'Lic. en matemáticas', 'Ingeniería en Mecatrónica',\n",
       "       'Ing. Industrial', 'Licenciatura en Administración',\n",
       "       'Ingeniería en computación', 'Lic en Ingeniería Industrial',\n",
       "       'administración', 'Ingeniería en Comunicaciones y Electrónica',\n",
       "       'Ing. en Comunicaciones y Electrónica',\n",
       "       'Licenciatura en contaduría', 'Licenciatura en psicología',\n",
       "       'Ingeniería civil', 'Ing. en topografía',\n",
       "       'Ingeniería de mecatrónica', 'Licenciatura en administración',\n",
       "       'Ing. en agronomía', 'Ing. en Mecánica Eléctrica',\n",
       "       'Ing. en mecatrónica', 'psicología', 'Lic. en Administración',\n",
       "       'contaduría', 'Lic. en Informática'], dtype=object)"
      ]
     },
     "execution_count": 162,
     "metadata": {},
     "output_type": "execute_result"
    }
   ],
   "source": [
    "df['Formación académica'].unique()"
   ]
  },
  {
   "cell_type": "code",
   "execution_count": 174,
   "metadata": {},
   "outputs": [
    {
     "data": {
      "text/html": [
       "<div>\n",
       "<style scoped>\n",
       "    .dataframe tbody tr th:only-of-type {\n",
       "        vertical-align: middle;\n",
       "    }\n",
       "\n",
       "    .dataframe tbody tr th {\n",
       "        vertical-align: top;\n",
       "    }\n",
       "\n",
       "    .dataframe thead th {\n",
       "        text-align: right;\n",
       "    }\n",
       "</style>\n",
       "<table border=\"1\" class=\"dataframe\">\n",
       "  <thead>\n",
       "    <tr style=\"text-align: right;\">\n",
       "      <th></th>\n",
       "      <th>Nombre</th>\n",
       "      <th>Edad</th>\n",
       "      <th>Formación académica</th>\n",
       "      <th>Antigüedad</th>\n",
       "      <th>Resultado de evaluación</th>\n",
       "      <th>administración</th>\n",
       "      <th>agronomía</th>\n",
       "      <th>civil</th>\n",
       "      <th>computación</th>\n",
       "      <th>comunicaciones</th>\n",
       "      <th>...</th>\n",
       "      <th>ing</th>\n",
       "      <th>ingeniería</th>\n",
       "      <th>lic</th>\n",
       "      <th>licenciatura</th>\n",
       "      <th>matemáticas</th>\n",
       "      <th>mecatrónica</th>\n",
       "      <th>mecánica</th>\n",
       "      <th>psicología</th>\n",
       "      <th>sociología</th>\n",
       "      <th>topografía</th>\n",
       "    </tr>\n",
       "  </thead>\n",
       "  <tbody>\n",
       "    <tr>\n",
       "      <th>0</th>\n",
       "      <td>Alvarado Zepeda Diana</td>\n",
       "      <td>51.0</td>\n",
       "      <td>Ingeniería Industrial</td>\n",
       "      <td>16.000000</td>\n",
       "      <td>3.6250</td>\n",
       "      <td>0</td>\n",
       "      <td>0</td>\n",
       "      <td>0</td>\n",
       "      <td>0</td>\n",
       "      <td>0</td>\n",
       "      <td>...</td>\n",
       "      <td>0</td>\n",
       "      <td>1</td>\n",
       "      <td>0</td>\n",
       "      <td>0</td>\n",
       "      <td>0</td>\n",
       "      <td>0</td>\n",
       "      <td>0</td>\n",
       "      <td>0</td>\n",
       "      <td>0</td>\n",
       "      <td>0</td>\n",
       "    </tr>\n",
       "    <tr>\n",
       "      <th>1</th>\n",
       "      <td>Bonilla Sandoval Martín</td>\n",
       "      <td>65.0</td>\n",
       "      <td>Licenciatura en sociología</td>\n",
       "      <td>9.000000</td>\n",
       "      <td>6.0700</td>\n",
       "      <td>0</td>\n",
       "      <td>0</td>\n",
       "      <td>0</td>\n",
       "      <td>0</td>\n",
       "      <td>0</td>\n",
       "      <td>...</td>\n",
       "      <td>0</td>\n",
       "      <td>0</td>\n",
       "      <td>0</td>\n",
       "      <td>1</td>\n",
       "      <td>0</td>\n",
       "      <td>0</td>\n",
       "      <td>0</td>\n",
       "      <td>0</td>\n",
       "      <td>1</td>\n",
       "      <td>0</td>\n",
       "    </tr>\n",
       "    <tr>\n",
       "      <th>2</th>\n",
       "      <td>Bonilla Sánchez Daniel</td>\n",
       "      <td>28.0</td>\n",
       "      <td>Lic. en matemáticas</td>\n",
       "      <td>15.000000</td>\n",
       "      <td>4.6300</td>\n",
       "      <td>0</td>\n",
       "      <td>0</td>\n",
       "      <td>0</td>\n",
       "      <td>0</td>\n",
       "      <td>0</td>\n",
       "      <td>...</td>\n",
       "      <td>0</td>\n",
       "      <td>0</td>\n",
       "      <td>1</td>\n",
       "      <td>0</td>\n",
       "      <td>1</td>\n",
       "      <td>0</td>\n",
       "      <td>0</td>\n",
       "      <td>0</td>\n",
       "      <td>0</td>\n",
       "      <td>0</td>\n",
       "    </tr>\n",
       "    <tr>\n",
       "      <th>3</th>\n",
       "      <td>Bravo Cortéz Marcos</td>\n",
       "      <td>53.0</td>\n",
       "      <td>Ingeniería en Mecatrónica</td>\n",
       "      <td>11.000000</td>\n",
       "      <td>6.5250</td>\n",
       "      <td>0</td>\n",
       "      <td>0</td>\n",
       "      <td>0</td>\n",
       "      <td>0</td>\n",
       "      <td>0</td>\n",
       "      <td>...</td>\n",
       "      <td>0</td>\n",
       "      <td>1</td>\n",
       "      <td>0</td>\n",
       "      <td>0</td>\n",
       "      <td>0</td>\n",
       "      <td>1</td>\n",
       "      <td>0</td>\n",
       "      <td>0</td>\n",
       "      <td>0</td>\n",
       "      <td>0</td>\n",
       "    </tr>\n",
       "    <tr>\n",
       "      <th>4</th>\n",
       "      <td>Bravo Gomez Pedro</td>\n",
       "      <td>33.0</td>\n",
       "      <td>Ingeniería en Mecatrónica</td>\n",
       "      <td>11.000000</td>\n",
       "      <td>7.9900</td>\n",
       "      <td>0</td>\n",
       "      <td>0</td>\n",
       "      <td>0</td>\n",
       "      <td>0</td>\n",
       "      <td>0</td>\n",
       "      <td>...</td>\n",
       "      <td>0</td>\n",
       "      <td>1</td>\n",
       "      <td>0</td>\n",
       "      <td>0</td>\n",
       "      <td>0</td>\n",
       "      <td>1</td>\n",
       "      <td>0</td>\n",
       "      <td>0</td>\n",
       "      <td>0</td>\n",
       "      <td>0</td>\n",
       "    </tr>\n",
       "    <tr>\n",
       "      <th>...</th>\n",
       "      <td>...</td>\n",
       "      <td>...</td>\n",
       "      <td>...</td>\n",
       "      <td>...</td>\n",
       "      <td>...</td>\n",
       "      <td>...</td>\n",
       "      <td>...</td>\n",
       "      <td>...</td>\n",
       "      <td>...</td>\n",
       "      <td>...</td>\n",
       "      <td>...</td>\n",
       "      <td>...</td>\n",
       "      <td>...</td>\n",
       "      <td>...</td>\n",
       "      <td>...</td>\n",
       "      <td>...</td>\n",
       "      <td>...</td>\n",
       "      <td>...</td>\n",
       "      <td>...</td>\n",
       "      <td>...</td>\n",
       "      <td>...</td>\n",
       "    </tr>\n",
       "    <tr>\n",
       "      <th>70</th>\n",
       "      <td>Ávila López Carmen</td>\n",
       "      <td>68.0</td>\n",
       "      <td>Ing. en mecatrónica</td>\n",
       "      <td>6.000000</td>\n",
       "      <td>5.4375</td>\n",
       "      <td>0</td>\n",
       "      <td>0</td>\n",
       "      <td>0</td>\n",
       "      <td>0</td>\n",
       "      <td>0</td>\n",
       "      <td>...</td>\n",
       "      <td>1</td>\n",
       "      <td>0</td>\n",
       "      <td>0</td>\n",
       "      <td>0</td>\n",
       "      <td>0</td>\n",
       "      <td>1</td>\n",
       "      <td>0</td>\n",
       "      <td>0</td>\n",
       "      <td>0</td>\n",
       "      <td>0</td>\n",
       "    </tr>\n",
       "    <tr>\n",
       "      <th>71</th>\n",
       "      <td>Jiménez de Alba Enrique</td>\n",
       "      <td>58.0</td>\n",
       "      <td>Ingeniería Industrial</td>\n",
       "      <td>15.732394</td>\n",
       "      <td>5.7550</td>\n",
       "      <td>0</td>\n",
       "      <td>0</td>\n",
       "      <td>0</td>\n",
       "      <td>0</td>\n",
       "      <td>0</td>\n",
       "      <td>...</td>\n",
       "      <td>0</td>\n",
       "      <td>1</td>\n",
       "      <td>0</td>\n",
       "      <td>0</td>\n",
       "      <td>0</td>\n",
       "      <td>0</td>\n",
       "      <td>0</td>\n",
       "      <td>0</td>\n",
       "      <td>0</td>\n",
       "      <td>0</td>\n",
       "    </tr>\n",
       "    <tr>\n",
       "      <th>72</th>\n",
       "      <td>Sánchez Pineda Ramón</td>\n",
       "      <td>36.0</td>\n",
       "      <td>Ingeniería Industrial</td>\n",
       "      <td>15.000000</td>\n",
       "      <td>4.6800</td>\n",
       "      <td>0</td>\n",
       "      <td>0</td>\n",
       "      <td>0</td>\n",
       "      <td>0</td>\n",
       "      <td>0</td>\n",
       "      <td>...</td>\n",
       "      <td>0</td>\n",
       "      <td>1</td>\n",
       "      <td>0</td>\n",
       "      <td>0</td>\n",
       "      <td>0</td>\n",
       "      <td>0</td>\n",
       "      <td>0</td>\n",
       "      <td>0</td>\n",
       "      <td>0</td>\n",
       "      <td>0</td>\n",
       "    </tr>\n",
       "    <tr>\n",
       "      <th>73</th>\n",
       "      <td>Pérez Jiménez Francisco</td>\n",
       "      <td>64.0</td>\n",
       "      <td>Ingeniería en Mecatrónica</td>\n",
       "      <td>15.732394</td>\n",
       "      <td>4.4100</td>\n",
       "      <td>0</td>\n",
       "      <td>0</td>\n",
       "      <td>0</td>\n",
       "      <td>0</td>\n",
       "      <td>0</td>\n",
       "      <td>...</td>\n",
       "      <td>0</td>\n",
       "      <td>1</td>\n",
       "      <td>0</td>\n",
       "      <td>0</td>\n",
       "      <td>0</td>\n",
       "      <td>1</td>\n",
       "      <td>0</td>\n",
       "      <td>0</td>\n",
       "      <td>0</td>\n",
       "      <td>0</td>\n",
       "    </tr>\n",
       "    <tr>\n",
       "      <th>74</th>\n",
       "      <td>Pineda Zepeda Karen</td>\n",
       "      <td>55.0</td>\n",
       "      <td>Ingeniería civil</td>\n",
       "      <td>13.000000</td>\n",
       "      <td>5.4375</td>\n",
       "      <td>0</td>\n",
       "      <td>0</td>\n",
       "      <td>1</td>\n",
       "      <td>0</td>\n",
       "      <td>0</td>\n",
       "      <td>...</td>\n",
       "      <td>0</td>\n",
       "      <td>1</td>\n",
       "      <td>0</td>\n",
       "      <td>0</td>\n",
       "      <td>0</td>\n",
       "      <td>0</td>\n",
       "      <td>0</td>\n",
       "      <td>0</td>\n",
       "      <td>0</td>\n",
       "      <td>0</td>\n",
       "    </tr>\n",
       "  </tbody>\n",
       "</table>\n",
       "<p>75 rows × 25 columns</p>\n",
       "</div>"
      ],
      "text/plain": [
       "                     Nombre  Edad         Formación académica  Antigüedad  \\\n",
       "0     Alvarado Zepeda Diana  51.0       Ingeniería Industrial   16.000000   \n",
       "1   Bonilla Sandoval Martín  65.0  Licenciatura en sociología    9.000000   \n",
       "2    Bonilla Sánchez Daniel  28.0         Lic. en matemáticas   15.000000   \n",
       "3       Bravo Cortéz Marcos  53.0   Ingeniería en Mecatrónica   11.000000   \n",
       "4         Bravo Gomez Pedro  33.0   Ingeniería en Mecatrónica   11.000000   \n",
       "..                      ...   ...                         ...         ...   \n",
       "70       Ávila López Carmen  68.0         Ing. en mecatrónica    6.000000   \n",
       "71  Jiménez de Alba Enrique  58.0       Ingeniería Industrial   15.732394   \n",
       "72     Sánchez Pineda Ramón  36.0       Ingeniería Industrial   15.000000   \n",
       "73  Pérez Jiménez Francisco  64.0   Ingeniería en Mecatrónica   15.732394   \n",
       "74      Pineda Zepeda Karen  55.0            Ingeniería civil   13.000000   \n",
       "\n",
       "    Resultado de evaluación  administración  agronomía  civil  computación  \\\n",
       "0                    3.6250               0          0      0            0   \n",
       "1                    6.0700               0          0      0            0   \n",
       "2                    4.6300               0          0      0            0   \n",
       "3                    6.5250               0          0      0            0   \n",
       "4                    7.9900               0          0      0            0   \n",
       "..                      ...             ...        ...    ...          ...   \n",
       "70                   5.4375               0          0      0            0   \n",
       "71                   5.7550               0          0      0            0   \n",
       "72                   4.6800               0          0      0            0   \n",
       "73                   4.4100               0          0      0            0   \n",
       "74                   5.4375               0          0      1            0   \n",
       "\n",
       "    comunicaciones  ...  ing  ingeniería  lic  licenciatura  matemáticas  \\\n",
       "0                0  ...    0           1    0             0            0   \n",
       "1                0  ...    0           0    0             1            0   \n",
       "2                0  ...    0           0    1             0            1   \n",
       "3                0  ...    0           1    0             0            0   \n",
       "4                0  ...    0           1    0             0            0   \n",
       "..             ...  ...  ...         ...  ...           ...          ...   \n",
       "70               0  ...    1           0    0             0            0   \n",
       "71               0  ...    0           1    0             0            0   \n",
       "72               0  ...    0           1    0             0            0   \n",
       "73               0  ...    0           1    0             0            0   \n",
       "74               0  ...    0           1    0             0            0   \n",
       "\n",
       "    mecatrónica  mecánica  psicología  sociología  topografía  \n",
       "0             0         0           0           0           0  \n",
       "1             0         0           0           1           0  \n",
       "2             0         0           0           0           0  \n",
       "3             1         0           0           0           0  \n",
       "4             1         0           0           0           0  \n",
       "..          ...       ...         ...         ...         ...  \n",
       "70            1         0           0           0           0  \n",
       "71            0         0           0           0           0  \n",
       "72            0         0           0           0           0  \n",
       "73            1         0           0           0           0  \n",
       "74            0         0           0           0           0  \n",
       "\n",
       "[75 rows x 25 columns]"
      ]
     },
     "execution_count": 174,
     "metadata": {},
     "output_type": "execute_result"
    }
   ],
   "source": [
    "def contar_palabras(textos, stop_words):\n",
    "\n",
    "    vectorizer = CountVectorizer(stop_words=stop_words)\n",
    "\n",
    "    conteo_de_vectores = vectorizer.fit_transform(textos)\n",
    "\n",
    "    conteo = pd.DataFrame(conteo_de_vectores.toarray(), columns=vectorizer.get_feature_names_out())\n",
    "\n",
    "    return conteo\n",
    "\n",
    "stop_words = [\"en\", \"la\", \"de\", \"y\", \"con\"]\n",
    "df_tfidf = pd.concat([df, contar_palabras(df[\"Formación académica\"], stop_words)], axis=1)\n",
    "df_tfidf"
   ]
  }
 ],
 "metadata": {
  "kernelspec": {
   "display_name": "Python 3",
   "language": "python",
   "name": "python3"
  },
  "language_info": {
   "codemirror_mode": {
    "name": "ipython",
    "version": 3
   },
   "file_extension": ".py",
   "mimetype": "text/x-python",
   "name": "python",
   "nbconvert_exporter": "python",
   "pygments_lexer": "ipython3",
   "version": "3.10.13"
  }
 },
 "nbformat": 4,
 "nbformat_minor": 2
}
