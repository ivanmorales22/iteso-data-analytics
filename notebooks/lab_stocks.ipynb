{
 "cells": [
  {
   "cell_type": "code",
   "execution_count": 10,
   "metadata": {},
   "outputs": [
    {
     "name": "stderr",
     "output_type": "stream",
     "text": [
      "[*********************100%%**********************]  1 of 1 completed\n"
     ]
    }
   ],
   "source": [
    "import pandas as pd\n",
    "import datetime\n",
    "\n",
    "from pandas_datareader import data as pdr\n",
    "import yfinance as yf\n",
    "yf.pdr_override() # Importamos Pandas Datareader y lo parcheamos para que funcione con Yahoo\n",
    "\n",
    "import numpy as np # Importamos Numpy y le asociamos el nombre np\n",
    "\n",
    "start = datetime.datetime(2008, 1, 1)\n",
    "end=datetime.datetime(2017, 12, 31)\n",
    "\n",
    "tickers=['AMD']\n",
    "data_amd=pdr.get_data_yahoo(tickers, start=start, end=end)"
   ]
  },
  {
   "cell_type": "code",
   "execution_count": 9,
   "metadata": {},
   "outputs": [
    {
     "name": "stdout",
     "output_type": "stream",
     "text": [
      "Collecting yfinance\n",
      "  Downloading yfinance-0.2.37-py2.py3-none-any.whl.metadata (11 kB)\n",
      "Requirement already satisfied: pandas>=1.3.0 in c:\\users\\ivanm\\anaconda3\\anaconda\\envs\\iteso_laboratorio\\lib\\site-packages (from yfinance) (2.1.4)\n",
      "Requirement already satisfied: numpy>=1.16.5 in c:\\users\\ivanm\\anaconda3\\anaconda\\envs\\iteso_laboratorio\\lib\\site-packages (from yfinance) (1.26.3)\n",
      "Requirement already satisfied: requests>=2.31 in c:\\users\\ivanm\\anaconda3\\anaconda\\envs\\iteso_laboratorio\\lib\\site-packages (from yfinance) (2.31.0)\n",
      "Collecting multitasking>=0.0.7 (from yfinance)\n",
      "  Downloading multitasking-0.0.11-py3-none-any.whl.metadata (5.5 kB)\n",
      "Requirement already satisfied: lxml>=4.9.1 in c:\\users\\ivanm\\anaconda3\\anaconda\\envs\\iteso_laboratorio\\lib\\site-packages (from yfinance) (5.1.0)\n",
      "Collecting appdirs>=1.4.4 (from yfinance)\n",
      "  Downloading appdirs-1.4.4-py2.py3-none-any.whl.metadata (9.0 kB)\n",
      "Requirement already satisfied: pytz>=2022.5 in c:\\users\\ivanm\\anaconda3\\anaconda\\envs\\iteso_laboratorio\\lib\\site-packages (from yfinance) (2023.3.post1)\n",
      "Collecting frozendict>=2.3.4 (from yfinance)\n",
      "  Downloading frozendict-2.4.0-cp310-cp310-win_amd64.whl.metadata (23 kB)\n",
      "Collecting peewee>=3.16.2 (from yfinance)\n",
      "  Downloading peewee-3.17.1.tar.gz (3.0 MB)\n",
      "     ---------------------------------------- 0.0/3.0 MB ? eta -:--:--\n",
      "      --------------------------------------- 0.1/3.0 MB 3.4 MB/s eta 0:00:01\n",
      "     --- ------------------------------------ 0.2/3.0 MB 3.5 MB/s eta 0:00:01\n",
      "     ------ --------------------------------- 0.5/3.0 MB 4.4 MB/s eta 0:00:01\n",
      "     ------------- -------------------------- 1.0/3.0 MB 7.1 MB/s eta 0:00:01\n",
      "     ------------------- -------------------- 1.4/3.0 MB 7.5 MB/s eta 0:00:01\n",
      "     ----------------------------- ---------- 2.1/3.0 MB 9.1 MB/s eta 0:00:01\n",
      "     ----------------------------------- ---- 2.6/3.0 MB 9.2 MB/s eta 0:00:01\n",
      "     ---------------------------------------  2.9/3.0 MB 9.9 MB/s eta 0:00:01\n",
      "     ---------------------------------------- 3.0/3.0 MB 9.0 MB/s eta 0:00:00\n",
      "  Installing build dependencies: started\n",
      "  Installing build dependencies: finished with status 'done'\n",
      "  Getting requirements to build wheel: started\n",
      "  Getting requirements to build wheel: finished with status 'done'\n",
      "  Preparing metadata (pyproject.toml): started\n",
      "  Preparing metadata (pyproject.toml): finished with status 'done'\n",
      "Requirement already satisfied: beautifulsoup4>=4.11.1 in c:\\users\\ivanm\\anaconda3\\anaconda\\envs\\iteso_laboratorio\\lib\\site-packages (from yfinance) (4.12.2)\n",
      "Collecting html5lib>=1.1 (from yfinance)\n",
      "  Downloading html5lib-1.1-py2.py3-none-any.whl.metadata (16 kB)\n",
      "Requirement already satisfied: soupsieve>1.2 in c:\\users\\ivanm\\anaconda3\\anaconda\\envs\\iteso_laboratorio\\lib\\site-packages (from beautifulsoup4>=4.11.1->yfinance) (2.5)\n",
      "Requirement already satisfied: six>=1.9 in c:\\users\\ivanm\\anaconda3\\anaconda\\envs\\iteso_laboratorio\\lib\\site-packages (from html5lib>=1.1->yfinance) (1.16.0)\n",
      "Requirement already satisfied: webencodings in c:\\users\\ivanm\\anaconda3\\anaconda\\envs\\iteso_laboratorio\\lib\\site-packages (from html5lib>=1.1->yfinance) (0.5.1)\n",
      "Requirement already satisfied: python-dateutil>=2.8.2 in c:\\users\\ivanm\\anaconda3\\anaconda\\envs\\iteso_laboratorio\\lib\\site-packages (from pandas>=1.3.0->yfinance) (2.8.2)\n",
      "Requirement already satisfied: tzdata>=2022.1 in c:\\users\\ivanm\\anaconda3\\anaconda\\envs\\iteso_laboratorio\\lib\\site-packages (from pandas>=1.3.0->yfinance) (2023.3)\n",
      "Requirement already satisfied: charset-normalizer<4,>=2 in c:\\users\\ivanm\\anaconda3\\anaconda\\envs\\iteso_laboratorio\\lib\\site-packages (from requests>=2.31->yfinance) (2.0.4)\n",
      "Requirement already satisfied: idna<4,>=2.5 in c:\\users\\ivanm\\anaconda3\\anaconda\\envs\\iteso_laboratorio\\lib\\site-packages (from requests>=2.31->yfinance) (2.10)\n",
      "Requirement already satisfied: urllib3<3,>=1.21.1 in c:\\users\\ivanm\\anaconda3\\anaconda\\envs\\iteso_laboratorio\\lib\\site-packages (from requests>=2.31->yfinance) (1.26.18)\n",
      "Requirement already satisfied: certifi>=2017.4.17 in c:\\users\\ivanm\\anaconda3\\anaconda\\envs\\iteso_laboratorio\\lib\\site-packages (from requests>=2.31->yfinance) (2023.11.17)\n",
      "Downloading yfinance-0.2.37-py2.py3-none-any.whl (72 kB)\n",
      "   ---------------------------------------- 0.0/73.0 kB ? eta -:--:--\n",
      "   ---------------------------------------- 73.0/73.0 kB ? eta 0:00:00\n",
      "Downloading appdirs-1.4.4-py2.py3-none-any.whl (9.6 kB)\n",
      "Downloading frozendict-2.4.0-cp310-cp310-win_amd64.whl (36 kB)\n",
      "Downloading html5lib-1.1-py2.py3-none-any.whl (112 kB)\n",
      "   ---------------------------------------- 0.0/112.2 kB ? eta -:--:--\n",
      "   ---------------------------------------- 112.2/112.2 kB 6.4 MB/s eta 0:00:00\n",
      "Downloading multitasking-0.0.11-py3-none-any.whl (8.5 kB)\n",
      "Building wheels for collected packages: peewee\n",
      "  Building wheel for peewee (pyproject.toml): started\n",
      "  Building wheel for peewee (pyproject.toml): finished with status 'done'\n",
      "  Created wheel for peewee: filename=peewee-3.17.1-py3-none-any.whl size=136948 sha256=6bbcbf7d974c85cabf7272ac472399febbc9a01a804d3b2739983a7bf6496110\n",
      "  Stored in directory: c:\\users\\ivanm\\appdata\\local\\pip\\cache\\wheels\\d7\\35\\5c\\1374782be033462df5f40174d8d879519d64ed8c25a1977554\n",
      "Successfully built peewee\n",
      "Installing collected packages: peewee, multitasking, appdirs, html5lib, frozendict, yfinance\n",
      "Successfully installed appdirs-1.4.4 frozendict-2.4.0 html5lib-1.1 multitasking-0.0.11 peewee-3.17.1 yfinance-0.2.37\n",
      "Note: you may need to restart the kernel to use updated packages.\n"
     ]
    }
   ],
   "source": [
    "pip install yfinance"
   ]
  }
 ],
 "metadata": {
  "kernelspec": {
   "display_name": "Python 3",
   "language": "python",
   "name": "python3"
  },
  "language_info": {
   "codemirror_mode": {
    "name": "ipython",
    "version": 3
   },
   "file_extension": ".py",
   "mimetype": "text/x-python",
   "name": "python",
   "nbconvert_exporter": "python",
   "pygments_lexer": "ipython3",
   "version": "3.10.13"
  }
 },
 "nbformat": 4,
 "nbformat_minor": 2
}
