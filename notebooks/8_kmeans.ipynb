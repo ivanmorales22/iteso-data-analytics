{
 "cells": [
  {
   "cell_type": "code",
   "execution_count": 2,
   "metadata": {},
   "outputs": [],
   "source": [
    "from sklearn.datasets import make_blobs\n",
    "import pandas as pd\n",
    "import numpy as np\n",
    "import matplotlib.pyplot as plt"
   ]
  },
  {
   "cell_type": "code",
   "execution_count": 22,
   "metadata": {},
   "outputs": [
    {
     "data": {
      "text/plain": [
       "array([[ -8.57321463,  -9.90980404],\n",
       "       [  6.26691327,  -0.48855895],\n",
       "       [ -3.44814639,  10.09940622],\n",
       "       [  7.44546746,  -0.83053244],\n",
       "       [ -6.16405247,  -5.75854054],\n",
       "       [  2.65880619,   0.84057422],\n",
       "       [ -1.84667076,  10.96537638],\n",
       "       [  4.20053506,   2.68739483],\n",
       "       [  4.83403393,   3.91045967],\n",
       "       [ -4.81118478,   9.76568216],\n",
       "       [ -3.59796307,   9.23613131],\n",
       "       [ -6.42470732,  -4.26582408],\n",
       "       [ -5.83574406,  -6.28614025],\n",
       "       [ -4.72186757,   6.62187288],\n",
       "       [ -1.03226446,   9.35702269],\n",
       "       [ -9.02141219,  -5.91516476],\n",
       "       [ -6.32624559,  -5.2257431 ],\n",
       "       [ -2.65321787,  11.02135192],\n",
       "       [ -8.64734206,  -6.57265938],\n",
       "       [ -5.93315194,  -7.02576742],\n",
       "       [ -3.43603301,   8.08282662],\n",
       "       [ -7.03383061,  -6.19780564],\n",
       "       [ -7.7726571 ,  -5.167312  ],\n",
       "       [ -1.78640641,  12.09035926],\n",
       "       [ -2.5808497 ,  12.14357344],\n",
       "       [ -3.43047516,  11.12853058],\n",
       "       [  1.80913735,   1.13187904],\n",
       "       [ -5.6282925 ,  -8.59442471],\n",
       "       [ -8.82899053,  -5.30594039],\n",
       "       [ -9.35352861,  -9.52102282],\n",
       "       [ -8.23967663,  -6.4156022 ],\n",
       "       [  5.23211939,   2.49528023],\n",
       "       [  4.25515691,   2.57626437],\n",
       "       [ -4.56243603,  -8.52147423],\n",
       "       [  0.64922801,  10.54915559],\n",
       "       [ -3.710475  ,   8.43089863],\n",
       "       [ -2.37414121,   6.16478976],\n",
       "       [ -1.86102968,   8.24412157],\n",
       "       [  6.47068307,   2.6306719 ],\n",
       "       [  4.82340039,  -2.00196815],\n",
       "       [ -9.63496593,  -8.75575967],\n",
       "       [ -3.4675461 ,   8.64296817],\n",
       "       [  4.5704553 ,  -0.36418639],\n",
       "       [ -5.16556972,   9.4080086 ],\n",
       "       [ -2.74049419,   8.41207874],\n",
       "       [  2.51527141,   2.92035455],\n",
       "       [-10.09459366,  -6.51084188],\n",
       "       [ -6.53326534,  -6.10947483],\n",
       "       [ -6.85362341,  -3.97304144],\n",
       "       [  3.02289163,   0.9696556 ],\n",
       "       [ -0.59961137,   3.61697469],\n",
       "       [  4.65010575,   1.50399542],\n",
       "       [ -0.88414598,  11.72676619],\n",
       "       [ -6.3598616 ,  -5.31646385],\n",
       "       [ -5.23550687,  -3.08652363],\n",
       "       [ -7.32655276,  -5.45210861],\n",
       "       [ -4.53485986,   9.64278079],\n",
       "       [ -2.02527308,   5.18772564],\n",
       "       [  7.59566693,   0.93662925],\n",
       "       [ -5.95903329,   7.88971107],\n",
       "       [ -6.29348224,  -8.30881243],\n",
       "       [  3.23577265,   1.31784539],\n",
       "       [ -7.37040342,  -8.38758192],\n",
       "       [  0.80233641,   1.92014193],\n",
       "       [ -7.40894086,  -1.43977126],\n",
       "       [ -6.4514397 ,  -9.37158715],\n",
       "       [  4.76033926,   6.89965391],\n",
       "       [ -8.65865605,  -8.51173016],\n",
       "       [  3.58035843,   2.99970455],\n",
       "       [  5.15497962,   1.82427785],\n",
       "       [  3.9544498 ,   0.36861515],\n",
       "       [ -6.37864149,  -6.18721317],\n",
       "       [ -9.26223419,  -5.56700238],\n",
       "       [ -1.82196104,   5.48820582],\n",
       "       [  4.83918157,   0.96621838],\n",
       "       [ -4.95287493,  -6.05454774],\n",
       "       [  6.22194273,   0.15439477],\n",
       "       [ -6.76320975,  -9.16605019],\n",
       "       [  8.41225064,   2.32232531],\n",
       "       [  1.53855197,   2.11029563],\n",
       "       [ -1.78592557,   7.72404662],\n",
       "       [  3.07337225,   1.32904665],\n",
       "       [ -0.8641078 ,   6.57259883],\n",
       "       [ -3.14807817,  -5.93244375],\n",
       "       [ -2.53619207,   6.89886427],\n",
       "       [ -2.09147043,   5.09494588],\n",
       "       [  0.42209991,   8.56273353],\n",
       "       [  2.80103037,   5.07303849],\n",
       "       [ -5.4662416 ,   7.57459771],\n",
       "       [  3.85566253,  -0.95386021],\n",
       "       [  4.81397297,   1.37515498],\n",
       "       [  6.92552447,   3.47703575],\n",
       "       [ -4.32524577,   6.18967873],\n",
       "       [  5.81359302,   6.35408094],\n",
       "       [ -3.71261085,  12.7188425 ],\n",
       "       [ -3.86304162,  10.23763871],\n",
       "       [ -0.44719858,  10.87684637],\n",
       "       [  4.31730741,   2.7812714 ],\n",
       "       [ -4.7135247 ,  -4.77250549],\n",
       "       [ -4.18763267,   8.39586138]])"
      ]
     },
     "execution_count": 22,
     "metadata": {},
     "output_type": "execute_result"
    }
   ],
   "source": [
    "X, y = make_blobs(n_samples = 100, centers = 3, n_features = 2, random_state = 42, cluster_std = 2)\n",
    "X"
   ]
  },
  {
   "cell_type": "code",
   "execution_count": 4,
   "metadata": {},
   "outputs": [
    {
     "data": {
      "text/plain": [
       "{0, 1, 2}"
      ]
     },
     "execution_count": 4,
     "metadata": {},
     "output_type": "execute_result"
    }
   ],
   "source": [
    "set(y)"
   ]
  },
  {
   "cell_type": "code",
   "execution_count": 5,
   "metadata": {},
   "outputs": [
    {
     "data": {
      "text/html": [
       "<div>\n",
       "<style scoped>\n",
       "    .dataframe tbody tr th:only-of-type {\n",
       "        vertical-align: middle;\n",
       "    }\n",
       "\n",
       "    .dataframe tbody tr th {\n",
       "        vertical-align: top;\n",
       "    }\n",
       "\n",
       "    .dataframe thead th {\n",
       "        text-align: right;\n",
       "    }\n",
       "</style>\n",
       "<table border=\"1\" class=\"dataframe\">\n",
       "  <thead>\n",
       "    <tr style=\"text-align: right;\">\n",
       "      <th></th>\n",
       "      <th>class</th>\n",
       "      <th>x1</th>\n",
       "      <th>x2</th>\n",
       "    </tr>\n",
       "  </thead>\n",
       "  <tbody>\n",
       "    <tr>\n",
       "      <th>99</th>\n",
       "      <td>0</td>\n",
       "      <td>-4.187633</td>\n",
       "      <td>8.395861</td>\n",
       "    </tr>\n",
       "    <tr>\n",
       "      <th>84</th>\n",
       "      <td>0</td>\n",
       "      <td>-2.536192</td>\n",
       "      <td>6.898864</td>\n",
       "    </tr>\n",
       "    <tr>\n",
       "      <th>23</th>\n",
       "      <td>0</td>\n",
       "      <td>-1.786406</td>\n",
       "      <td>12.090359</td>\n",
       "    </tr>\n",
       "    <tr>\n",
       "      <th>24</th>\n",
       "      <td>0</td>\n",
       "      <td>-2.580850</td>\n",
       "      <td>12.143573</td>\n",
       "    </tr>\n",
       "    <tr>\n",
       "      <th>56</th>\n",
       "      <td>0</td>\n",
       "      <td>-4.534860</td>\n",
       "      <td>9.642781</td>\n",
       "    </tr>\n",
       "    <tr>\n",
       "      <th>...</th>\n",
       "      <td>...</td>\n",
       "      <td>...</td>\n",
       "      <td>...</td>\n",
       "    </tr>\n",
       "    <tr>\n",
       "      <th>33</th>\n",
       "      <td>2</td>\n",
       "      <td>-4.562436</td>\n",
       "      <td>-8.521474</td>\n",
       "    </tr>\n",
       "    <tr>\n",
       "      <th>75</th>\n",
       "      <td>2</td>\n",
       "      <td>-4.952875</td>\n",
       "      <td>-6.054548</td>\n",
       "    </tr>\n",
       "    <tr>\n",
       "      <th>77</th>\n",
       "      <td>2</td>\n",
       "      <td>-6.763210</td>\n",
       "      <td>-9.166050</td>\n",
       "    </tr>\n",
       "    <tr>\n",
       "      <th>29</th>\n",
       "      <td>2</td>\n",
       "      <td>-9.353529</td>\n",
       "      <td>-9.521023</td>\n",
       "    </tr>\n",
       "    <tr>\n",
       "      <th>0</th>\n",
       "      <td>2</td>\n",
       "      <td>-8.573215</td>\n",
       "      <td>-9.909804</td>\n",
       "    </tr>\n",
       "  </tbody>\n",
       "</table>\n",
       "<p>100 rows × 3 columns</p>\n",
       "</div>"
      ],
      "text/plain": [
       "    class        x1         x2\n",
       "99      0 -4.187633   8.395861\n",
       "84      0 -2.536192   6.898864\n",
       "23      0 -1.786406  12.090359\n",
       "24      0 -2.580850  12.143573\n",
       "56      0 -4.534860   9.642781\n",
       "..    ...       ...        ...\n",
       "33      2 -4.562436  -8.521474\n",
       "75      2 -4.952875  -6.054548\n",
       "77      2 -6.763210  -9.166050\n",
       "29      2 -9.353529  -9.521023\n",
       "0       2 -8.573215  -9.909804\n",
       "\n",
       "[100 rows x 3 columns]"
      ]
     },
     "execution_count": 5,
     "metadata": {},
     "output_type": "execute_result"
    }
   ],
   "source": [
    "df = pd.DataFrame()\n",
    "df['class'] = y\n",
    "df['x1'] = X[:, 0]\n",
    "df['x2'] = X[:, 1]\n",
    "df.sort_values('class')"
   ]
  },
  {
   "cell_type": "code",
   "execution_count": 6,
   "metadata": {},
   "outputs": [
    {
     "data": {
      "text/plain": [
       "<Axes: xlabel='x1', ylabel='x2'>"
      ]
     },
     "execution_count": 6,
     "metadata": {},
     "output_type": "execute_result"
    },
    {
     "data": {
      "image/png": "[encoded data removed]",
      "text/plain": [
       "<Figure size 500x500 with 1 Axes>"
      ]
     },
     "metadata": {},
     "output_type": "display_data"
    }
   ],
   "source": [
    "import seaborn as sns\n",
    "\n",
    "plt.figure(figsize=(5,5))\n",
    "sns.scatterplot(x = 'x1', y = 'x2', hue = 'class', data = df, legend = 'full', palette = 'tab20')"
   ]
  },
  {
   "cell_type": "markdown",
   "metadata": {},
   "source": [
    "## Step 1\n",
    "Randomly pick 𝒌 data points as our initial Centroids."
   ]
  },
  {
   "cell_type": "code",
   "execution_count": 7,
   "metadata": {},
   "outputs": [
    {
     "data": {
      "text/plain": [
       "array([78, 38, 18])"
      ]
     },
     "execution_count": 7,
     "metadata": {},
     "output_type": "execute_result"
    }
   ],
   "source": [
    "k = 3\n",
    "\n",
    "# Step 1\n",
    "\n",
    "idx = np.random.choice(range(len(X)),k)\n",
    "centroids = X[idx, :]\n",
    "idx"
   ]
  },
  {
   "cell_type": "code",
   "execution_count": 8,
   "metadata": {},
   "outputs": [
    {
     "data": {
      "text/plain": [
       "array([[ 8.41225064,  2.32232531],\n",
       "       [ 6.47068307,  2.6306719 ],\n",
       "       [-8.64734206, -6.57265938]])"
      ]
     },
     "execution_count": 8,
     "metadata": {},
     "output_type": "execute_result"
    }
   ],
   "source": [
    "centroids"
   ]
  },
  {
   "cell_type": "markdown",
   "metadata": {},
   "source": [
    "## Step 2\n",
    "Find the distance between each data points in our training set with the 𝒌 centroids."
   ]
  },
  {
   "cell_type": "code",
   "execution_count": 9,
   "metadata": {},
   "outputs": [
    {
     "data": {
      "text/plain": [
       "array([[20.93157946, 19.58525963,  3.33796785],\n",
       "       [ 3.53603489,  3.12587959, 16.10749174],\n",
       "       [14.18280668, 12.41632676, 17.46394591],\n",
       "       [ 3.29775404,  3.5958504 , 17.08656022],\n",
       "       [16.66640349, 15.16625951,  2.6133344 ],\n",
       "       [ 5.94118754,  4.21127713, 13.51980106],\n",
       "       [13.41446235, 11.77478974, 18.81041809],\n",
       "       [ 4.227508  ,  2.27085655, 15.83718885],\n",
       "       [ 3.91481871,  2.07761332, 17.07756668],\n",
       "       [15.17441285, 13.34874202, 16.78265495],\n",
       "       [13.85806432, 12.04199855, 16.59560458],\n",
       "       [16.23388536, 14.62370508,  3.20337233],\n",
       "       [16.64665228, 15.19729212,  2.82615933],\n",
       "       [13.81995552, 11.8828816 , 13.76608265],\n",
       "       [11.77649493, 10.0766074 , 17.65627871],\n",
       "       [19.28182673, 17.69283301,  0.75645729],\n",
       "       [16.55888305, 15.01614597,  2.68359317],\n",
       "       [14.07542743, 12.39552659, 18.5870589 ],\n",
       "       [19.23929458, 17.69903926,  0.        ],\n",
       "       [17.12242427, 15.71947656,  2.75175124],\n",
       "       [13.17441463, 11.30791822, 15.55445313],\n",
       "       [17.64012634, 16.13424636,  1.65648258],\n",
       "       [17.83384158, 16.23826629,  1.6553172 ],\n",
       "       [14.12186577, 12.55648086, 19.88418223],\n",
       "       [14.74127437, 13.13109063, 19.67484944],\n",
       "       [14.75802852, 13.04785563, 18.45393796],\n",
       "       [ 6.70956537,  4.89656906, 12.98837457],\n",
       "       [17.78517029, 16.5041814 ,  3.63348253],\n",
       "       [18.85340379, 17.23571371,  1.27967698],\n",
       "       [21.35152939, 19.95167562,  3.03175632],\n",
       "       [18.80526679, 17.26932998,  0.43687305],\n",
       "       [ 3.18483095,  1.24594177, 16.57911273],\n",
       "       [ 4.16484254,  2.21619412, 15.81699357],\n",
       "       [16.90947908, 15.68757727,  4.5259625 ],\n",
       "       [11.31128891,  9.82810882, 19.48288384],\n",
       "       [13.57479816, 11.71744895, 15.7949172 ],\n",
       "       [11.45036166,  9.52475226, 14.19843863],\n",
       "       [11.85782271, 10.04630552, 16.29696393],\n",
       "       [ 1.96589985,  0.        , 17.69903926],\n",
       "       [ 5.61955158,  4.91679713, 14.22505257],\n",
       "       [21.17607123, 19.72416674,  2.3961068 ],\n",
       "       [13.45660049, 11.61533923, 16.07313312],\n",
       "       [ 4.68793521,  3.54683546, 14.60326347],\n",
       "       [15.31548606, 13.46605628, 16.35556443],\n",
       "       [12.70703797, 10.8752219 , 16.10693106],\n",
       "       [ 5.92722557,  3.96600523, 14.65337002],\n",
       "       [20.5067825 , 18.92024491,  1.44857122],\n",
       "       [17.15994468, 15.66821111,  2.1642228 ],\n",
       "       [16.51298134, 14.87098427,  3.15839201],\n",
       "       [ 5.55651922,  3.82704076, 13.89535425],\n",
       "       [ 9.10438213,  7.13875736, 12.98439879],\n",
       "       [ 3.85011662,  2.14100483, 15.55809985],\n",
       "       [13.2237097 , 11.69753998, 19.87803284],\n",
       "       [16.63028562, 15.09237699,  2.60971149],\n",
       "       [14.68049495, 13.02770923,  4.87788498],\n",
       "       [17.55425177, 15.9904677 ,  1.73208499],\n",
       "       [14.87335668, 13.04958415, 16.72880778],\n",
       "       [10.82369717,  8.87241764, 13.49660896],\n",
       "       [ 1.60840372,  2.03356072, 17.89482486],\n",
       "       [15.41199487, 13.49649368, 14.71010412],\n",
       "       [18.14606484, 16.81059885,  2.92487324],\n",
       "       [ 5.27303559,  3.49115438, 14.26423783],\n",
       "       [19.07339199, 17.69117273,  2.21912508],\n",
       "       [ 7.6205345 ,  5.71270573, 12.70527833],\n",
       "       [16.26233289, 14.46417879,  5.28016837],\n",
       "       [18.91234727, 17.63619799,  3.55752496],\n",
       "       [ 5.85562924,  4.59885674, 19.00708141],\n",
       "       [20.21862046, 18.78962549,  1.93910379],\n",
       "       [ 4.87914183,  2.91378819, 15.52890243],\n",
       "       [ 3.29512758,  1.54316135, 16.15588557],\n",
       "       [ 4.86713177,  3.38353818, 14.38702368],\n",
       "       [17.06407733, 15.58397379,  2.30121078],\n",
       "       [19.35533273, 17.74053407,  1.17874439],\n",
       "       [10.71269752,  8.77117133, 13.85822122],\n",
       "       [ 3.82175988,  2.33070863, 15.45059861],\n",
       "       [15.77335042, 14.35028633,  3.7306202 ],\n",
       "       [ 3.08178058,  2.48873867, 16.32019877],\n",
       "       [19.03358531, 17.72846783,  3.20556242],\n",
       "       [ 0.        ,  1.96589985, 19.23929458],\n",
       "       [ 6.87696808,  4.95950689, 13.38454875],\n",
       "       [11.54042422,  9.70123973, 15.85795821],\n",
       "       [ 5.4304903 ,  3.63812439, 14.13549088],\n",
       "       [10.2037077 ,  8.32694091, 15.27666682],\n",
       "       [14.20501371, 12.8781799 ,  5.53640492],\n",
       "       [11.86646985,  9.96700888, 14.79283961],\n",
       "       [10.86349765,  8.90972047, 13.38329053],\n",
       "       [10.13830377,  8.47199583, 17.64468465],\n",
       "       [ 6.24917722,  4.40811814, 16.33056981],\n",
       "       [14.83910079, 12.92023889, 14.50049252],\n",
       "       [ 5.61211963,  4.43702636, 13.70751721],\n",
       "       [ 3.72085122,  2.07870419, 15.63249039],\n",
       "       [ 1.88247468,  0.96083945, 18.53403745],\n",
       "       [13.31165795, 11.36743635, 13.47433821],\n",
       "       [ 4.79667331,  3.78094461, 19.39637231],\n",
       "       [15.97184509, 14.33424783, 19.91264967],\n",
       "       [14.60599145, 12.83167214, 17.47786178],\n",
       "       [12.31542411, 10.76366479, 19.28023869],\n",
       "       [ 4.12058146,  2.15863543, 15.98681197],\n",
       "       [14.92054297, 13.41243971,  4.32613835],\n",
       "       [13.9873121 , 12.11763608, 15.61875864]])"
      ]
     },
     "execution_count": 9,
     "metadata": {},
     "output_type": "execute_result"
    }
   ],
   "source": [
    "from scipy.spatial.distance import cdist\n",
    "\n",
    "# Step 2\n",
    "distances = cdist(X, centroids, metric='euclidean')\n",
    "distances"
   ]
  },
  {
   "cell_type": "markdown",
   "metadata": {},
   "source": [
    "## Step 3\n",
    "Now assign each data point to the closest centroid"
   ]
  },
  {
   "cell_type": "code",
   "execution_count": 10,
   "metadata": {},
   "outputs": [
    {
     "data": {
      "text/plain": [
       "array([2, 1, 1, 0, 2, 1, 1, 1, 1, 1, 1, 2, 2, 1, 1, 2, 2, 1, 2, 2, 1, 2,\n",
       "       2, 1, 1, 1, 1, 2, 2, 2, 2, 1, 1, 2, 1, 1, 1, 1, 1, 1, 2, 1, 1, 1,\n",
       "       1, 1, 2, 2, 2, 1, 1, 1, 1, 2, 2, 2, 1, 1, 0, 1, 2, 1, 2, 1, 2, 2,\n",
       "       1, 2, 1, 1, 1, 2, 2, 1, 1, 2, 1, 2, 0, 1, 1, 1, 1, 2, 1, 1, 1, 1,\n",
       "       1, 1, 1, 1, 1, 1, 1, 1, 1, 1, 2, 1], dtype=int64)"
      ]
     },
     "execution_count": 10,
     "metadata": {},
     "output_type": "execute_result"
    }
   ],
   "source": [
    "# Step 3\n",
    "points = np.argmin(distances, axis=1)\n",
    "points"
   ]
  },
  {
   "cell_type": "markdown",
   "metadata": {},
   "source": [
    "## Step 4\n",
    "Update centroid location by taking the average of the points in each cluster group.\n"
   ]
  },
  {
   "cell_type": "code",
   "execution_count": 11,
   "metadata": {},
   "outputs": [
    {
     "data": {
      "text/plain": [
       "array([[ 7.81779501,  0.80947404],\n",
       "       [ 0.3796926 ,  5.64955789],\n",
       "       [-7.02379204, -6.47232379]])"
      ]
     },
     "execution_count": 11,
     "metadata": {},
     "output_type": "execute_result"
    }
   ],
   "source": [
    "# Step 4\n",
    "temp_centroids = []\n",
    "\n",
    "for cluster in range(k):\n",
    "    # Update\n",
    "    temp_cluster_centroid = [np.mean(X[points == cluster][:, 0]), np.mean(X[points == cluster][:, 1])]\n",
    "    temp_centroids.append(temp_cluster_centroid)\n",
    "\n",
    "temp_centroids = np.array(temp_centroids)\n",
    "temp_centroids"
   ]
  },
  {
   "cell_type": "markdown",
   "metadata": {},
   "source": [
    "# Step 5\n",
    "Centroid change? Convergence"
   ]
  },
  {
   "cell_type": "code",
   "execution_count": 12,
   "metadata": {},
   "outputs": [
    {
     "data": {
      "text/plain": [
       "(array([[ 8.41225064,  2.32232531],\n",
       "        [ 6.47068307,  2.6306719 ],\n",
       "        [-8.64734206, -6.57265938]]),\n",
       " array([[ 7.81779501,  0.80947404],\n",
       "        [ 0.3796926 ,  5.64955789],\n",
       "        [-7.02379204, -6.47232379]]))"
      ]
     },
     "execution_count": 12,
     "metadata": {},
     "output_type": "execute_result"
    }
   ],
   "source": [
    "centroids, temp_centroids"
   ]
  },
  {
   "cell_type": "code",
   "execution_count": 13,
   "metadata": {},
   "outputs": [
    {
     "name": "stdout",
     "output_type": "stream",
     "text": [
      "Not Done\n"
     ]
    }
   ],
   "source": [
    "# Step 5\n",
    "if ( (centroids == temp_centroids).all() ):\n",
    "    print(\"Done\")\n",
    "else:\n",
    "    print(\"Not Done\")\n",
    "    centroids = temp_centroids"
   ]
  },
  {
   "cell_type": "markdown",
   "metadata": {},
   "source": [
    "# All together"
   ]
  },
  {
   "cell_type": "code",
   "execution_count": 14,
   "metadata": {},
   "outputs": [],
   "source": [
    "def kmeans(X, k):\n",
    "    \n",
    "    # Step 1\n",
    "    # YOUR CODE HERE\n",
    "    k = 3\n",
    "\n",
    "    # Step 1\n",
    "\n",
    "    idx = np.random.choice(range(len(X)),k)\n",
    "    centroids = X[idx, :]\n",
    "    \n",
    "    while True:\n",
    "        # Step 2\n",
    "        # YOUR CODE HERE\n",
    "        distances = cdist(X, centroids, metric='euclidean')\n",
    "\n",
    "\n",
    "        # Step 3\n",
    "        # YOUR CODE HERE\n",
    "        points = np.argmin(distances, axis=1)\n",
    "    \n",
    "        # Step 4\n",
    "        # YOUR CODE HERE\n",
    "        temp_centroids = []\n",
    "\n",
    "        for cluster in range(k):\n",
    "        # Update\n",
    "            temp_cluster_centroid = [np.mean(X[points == cluster][:, 0]), np.mean(X[points == cluster][:, 1])]\n",
    "            temp_centroids.append(temp_cluster_centroid)\n",
    "           \n",
    "        temp_centroids = np.array(temp_centroids)\n",
    "\n",
    "        # Step 5\n",
    "        if ( (centroids == temp_centroids).all() ):\n",
    "            # Done\n",
    "            return points, centroids\n",
    "\n",
    "        else:\n",
    "            centroids = temp_centroids"
   ]
  },
  {
   "cell_type": "code",
   "execution_count": 15,
   "metadata": {},
   "outputs": [],
   "source": [
    "k = 3\n",
    "points, centroids = kmeans(X, k)"
   ]
  },
  {
   "cell_type": "code",
   "execution_count": 16,
   "metadata": {},
   "outputs": [
    {
     "data": {
      "text/plain": [
       "array([[-7.02379204, -6.47232379],\n",
       "       [-2.82641022,  8.85723525],\n",
       "       [ 4.35914117,  1.90467057]])"
      ]
     },
     "execution_count": 16,
     "metadata": {},
     "output_type": "execute_result"
    }
   ],
   "source": [
    "centroids"
   ]
  },
  {
   "cell_type": "code",
   "execution_count": 17,
   "metadata": {},
   "outputs": [
    {
     "data": {
      "text/plain": [
       "<matplotlib.legend.Legend at 0x29374720460>"
      ]
     },
     "execution_count": 17,
     "metadata": {},
     "output_type": "execute_result"
    },
    {
     "data": {
      "image/png": "[encoded data removed]",
      "text/plain": [
       "<Figure size 800x500 with 1 Axes>"
      ]
     },
     "metadata": {},
     "output_type": "display_data"
    }
   ],
   "source": [
    "df = pd.DataFrame()\n",
    "df['cluster'] = points\n",
    "df['x1'] = X[:, 0]\n",
    "df['x2'] = X[:, 1]\n",
    "\n",
    "# plot\n",
    "plt.figure(figsize=(8,5))\n",
    "sns.scatterplot(x = 'x1', y = 'x2', hue = 'cluster', data = df, legend = 'full', palette = 'tab20')\n",
    "plt.scatter(centroids[:, 0], centroids[:, 1], c = 'r', label = 'Centroids')\n",
    "plt.legend()"
   ]
  }
 ],
 "metadata": {
  "kernelspec": {
   "display_name": "Python 3",
   "language": "python",
   "name": "python3"
  },
  "language_info": {
   "codemirror_mode": {
    "name": "ipython",
    "version": 3
   },
   "file_extension": ".py",
   "mimetype": "text/x-python",
   "name": "python",
   "nbconvert_exporter": "python",
   "pygments_lexer": "ipython3",
   "version": "3.10.13"
  }
 },
 "nbformat": 4,
 "nbformat_minor": 2
}
